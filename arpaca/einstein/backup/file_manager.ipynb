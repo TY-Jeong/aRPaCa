{
 "cells": [
  {
   "cell_type": "code",
   "execution_count": 36,
   "metadata": {},
   "outputs": [],
   "source": [
    "import os\n",
    "import sys\n",
    "import shutil\n",
    "import numpy as np\n",
    "# sys.path.append(os.path.join(os.path.dirname(__file__), '../amorphous'))\n",
    "sys.path.append('/home/taeyoung/github/aRPaCa/arpaca/amorphous')   \n",
    "from amorphous import genInput"
   ]
  },
  {
   "cell_type": "code",
   "execution_count": 37,
   "metadata": {},
   "outputs": [],
   "source": [
    "class getMDset:\n",
    "    def __init__(self,\n",
    "                 path_poscar,\n",
    "                 label,\n",
    "                 temp,\n",
    "                 potcar='pbe',\n",
    "                 nsw=10000,\n",
    "                 potim=2,\n",
    "                 charge=0,\n",
    "                 ncore=4):\n",
    "        \"\"\"\n",
    "        Arg 1: (str) path_poscar; path of directory containing poscar files\n",
    "        Arg 2: (list) label; labels of poscar. poscar format should be POSCAR_{label}\n",
    "        Arg 3: (list) temp; temperature in K \n",
    "        \"\"\"\n",
    "        self.path_poscar = path_poscar\n",
    "        self.label = label\n",
    "        self.temp = temp\n",
    "        self.potcar = potcar\n",
    "        self.nsw = nsw\n",
    "        self.potim = potim\n",
    "        self.charge = charge\n",
    "        self.ncore = ncore\n",
    "        \n",
    "        self.foldername=[]\n",
    "        self.makeFolder()\n",
    "\n",
    "    def makeFolder(self):\n",
    "        path_now = os.getcwd()\n",
    "        for t in self.temp:\n",
    "            outer_folder = f\"{t}K\"\n",
    "            for l in self.label:\n",
    "                # make folder\n",
    "                path_dir = os.path.join(outer_folder, f\"{l}\")\n",
    "                self.foldername += [path_dir]\n",
    "                os.makedirs(path_dir, exist_ok=True)\n",
    "                \n",
    "                # copy poscar\n",
    "                from_pos_path = os.path.join(self.path_poscar, f\"POSCAR_{l}\")\n",
    "                to_pos_path = os.path.join(path_dir, 'POSCAR')\n",
    "                shutil.copyfile(from_pos_path, to_pos_path)\n",
    "                \n",
    "                # make inpur files\n",
    "                os.chdir(path_dir)\n",
    "                _ = genInput(potcar=self.potcar,\n",
    "                             nsw=self.nsw,\n",
    "                             potim=self.potim,\n",
    "                             temp=t,\n",
    "                             charge=self.charge,\n",
    "                             ncore=self.ncore)\n",
    "                os.chdir(path_now)                "
   ]
  },
  {
   "cell_type": "code",
   "execution_count": 53,
   "metadata": {},
   "outputs": [],
   "source": [
    "class getMDresult:\n",
    "    def __init__(self,\n",
    "                 temp=None,\n",
    "                 label=None,\n",
    "                 outdir='xdatcar'):\n",
    "        \n",
    "        self.temp = temp\n",
    "        self.label = label\n",
    "        self.outdir = outdir\n",
    "\n",
    "        # folders where MD was conducted\n",
    "        self.foldername=[]\n",
    "        if self.temp is None and self.label is None:\n",
    "            self.autoSearch()\n",
    "        else:\n",
    "            for t in self.temp:\n",
    "                for l in self.label:\n",
    "                    foldername = f\"{t}K/{l}\"\n",
    "                    self.foldername += [foldername]\n",
    "        \n",
    "        # copy XDATCAR files\n",
    "        if os.path.isdir(self.outdir):\n",
    "            os.mkdir(self.outdir)\n",
    "            \n",
    "        check_temp = []   \n",
    "        for path in self.foldername:\n",
    "            temp, label = path.split('/')\n",
    "            path_save = os.path.join(self.outdir, f\"xdatcar.{temp}\")\n",
    "            os.makedirs(path_save, exist_ok=True)\n",
    "            \n",
    "            # copy xdatcar\n",
    "            from_xdat_path = os.path.join(path, 'XDATCAR')\n",
    "            to_xdat_path = os.path.join(path_save, f'XDATCAR_{label}')\n",
    "            if not os.path.isfile(from_xdat_path):\n",
    "                print(f\"no XDATCAR in {path}.\")\n",
    "            else:\n",
    "                shutil.copyfile(from_xdat_path, to_xdat_path)    \n",
    "\n",
    "            # copy outcar\n",
    "            if not temp in check_temp:\n",
    "                from_out_path = os.path.join(path, 'OUTCAR')\n",
    "                to_out_path = os.path.join(path_save, 'OUTCAR')\n",
    "                if not os.path.isfile(from_out_path):\n",
    "                    print(f\"no OUTCAR in {path}.\")\n",
    "                else:\n",
    "                    check_temp += [temp]\n",
    "                    shutil.copyfile(from_out_path, to_out_path)\n",
    "\n",
    "    def autoSearch(self):\n",
    "        path_now = os.getcwd()\n",
    "        for name_out in os.listdir(path_now):\n",
    "            if os.path.isdir(name_out) and name_out[-1]=='K':\n",
    "                outer_folder = name_out\n",
    "                os.chdir(name_out)\n",
    "                for name_in in os.listdir(os.getcwd()):\n",
    "                    if os.path.isdir(name_in):\n",
    "                        inner_folder = name_in\n",
    "                        foldername = os.path.join(outer_folder, inner_folder)\n",
    "                        self.foldername += [foldername]\n",
    "                os.chdir(path_now)\n"
   ]
  },
  {
   "cell_type": "code",
   "execution_count": 54,
   "metadata": {},
   "outputs": [],
   "source": [
    "test = getMDresult()"
   ]
  },
  {
   "cell_type": "code",
   "execution_count": 38,
   "metadata": {},
   "outputs": [],
   "source": [
    "example = getMDset(path_poscar='ensembles',\n",
    "                   label=[format(i+1,'02') for i in range(10)],\n",
    "                   temp=np.arange(1200, 2000+1, 100))"
   ]
  },
  {
   "cell_type": "code",
   "execution_count": 41,
   "metadata": {},
   "outputs": [
    {
     "name": "stdout",
     "output_type": "stream",
     "text": [
      "1600K\n",
      "1200K\n",
      "1800K\n",
      "2000K\n",
      "1700K\n",
      "1900K\n",
      "1300K\n",
      "1400K\n",
      "1500K\n"
     ]
    }
   ],
   "source": [
    "path_now = os.getcwd()\n",
    "for filename in os.listdir(path_now):\n",
    "    if os.path.isdir(filename) and filename[-1]=='K':\n",
    "        print(filename)\n"
   ]
  },
  {
   "cell_type": "code",
   "execution_count": 44,
   "metadata": {},
   "outputs": [
    {
     "data": {
      "text/plain": [
       "False"
      ]
     },
     "execution_count": 44,
     "metadata": {},
     "output_type": "execute_result"
    }
   ],
   "source": [
    "os.path.isdir('xdatcar')"
   ]
  }
 ],
 "metadata": {
  "kernelspec": {
   "display_name": "cmd",
   "language": "python",
   "name": "python3"
  },
  "language_info": {
   "codemirror_mode": {
    "name": "ipython",
    "version": 3
   },
   "file_extension": ".py",
   "mimetype": "text/x-python",
   "name": "python",
   "nbconvert_exporter": "python",
   "pygments_lexer": "ipython3",
   "version": "3.11.5"
  }
 },
 "nbformat": 4,
 "nbformat_minor": 2
}
