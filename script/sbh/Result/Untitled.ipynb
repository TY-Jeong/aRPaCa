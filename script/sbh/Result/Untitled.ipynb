{
 "cells": [
  {
   "cell_type": "code",
   "execution_count": 110,
   "id": "50816011-b0b7-4611-82b9-8b52da82545c",
   "metadata": {},
   "outputs": [],
   "source": [
    "import os\n",
    "import numpy as np\n",
    "\n",
    "required_dirs = ['DOS', 'Correction', 'Dielec', 'Chg', 'Relax']\n",
    "required_files = ['dos_bulk.dat', 'cbs.dat', 'DOStot.dat', 'input.dat', 'k_mesh.dat', 'kpdos_int_2.dat','sa']\n",
    "\n",
    "def find_matching_path(target_dir, required_paths):\n",
    "    not_found_paths = []\n",
    "    for required_path in required_paths:\n",
    "        path = os.path.join(target_dir, required_path)\n",
    "        if not os.path.exists(path):\n",
    "                not_found_paths.append(required_path)\n",
    "    return not_found_paths"
   ]
  },
  {
   "cell_type": "code",
   "execution_count": 112,
   "id": "0d46a821-cdd7-4595-a328-9f4526af25f3",
   "metadata": {},
   "outputs": [],
   "source": [
    "def path_checker(parent_dir, required_paths):\n",
    "    not_found_paths = find_matching_path(parent_dir, required_paths)\n",
    "    if len(not_found_paths) == 0:\n",
    "        return os.path.abspath(parent_dir)\n",
    "        \n",
    "    min_not_found = len(not_found_paths)\n",
    "    min_not_found_paths = ' & '.join(not_found_paths)\n",
    "\n",
    "    for dirpath, dirnames, filenames in os.walk(parent_dir):\n",
    "        for dirname in dirnames:\n",
    "            subdir_path = os.path.join(dirpath, dirname)\n",
    "            not_found_paths = find_matching_path(subdir_path, required_paths)\n",
    "            if len(not_found_paths) == 0:\n",
    "                return os.path.abspath(subdir_path)\n",
    "            else:\n",
    "                if len(not_found_paths) < min_not_found:\n",
    "                    min_not_found = len(not_found_paths)\n",
    "                    min_not_found_paths = ' & '.join(not_found_paths)\n",
    "\n",
    "    raise FileNotFoundError(\"Can't find required paths, \\\"%s\\\"\"%min_not_found_paths)\n",
    "            "
   ]
  },
  {
   "cell_type": "code",
   "execution_count": 115,
   "id": "b045a669-b973-4e1d-a80f-fa0327747537",
   "metadata": {},
   "outputs": [
    {
     "ename": "FileNotFoundError",
     "evalue": "Can't find required paths, \"sa\"",
     "output_type": "error",
     "traceback": [
      "\u001b[0;31m---------------------------------------------------------------------------\u001b[0m",
      "\u001b[0;31mFileNotFoundError\u001b[0m                         Traceback (most recent call last)",
      "Cell \u001b[0;32mIn[115], line 3\u001b[0m\n\u001b[1;32m      1\u001b[0m \u001b[38;5;66;03m# Example usage:\u001b[39;00m\n\u001b[1;32m      2\u001b[0m \u001b[38;5;66;03m#find_matching_path('/home/ysj/aRPaCa/script/SBH/Project/Bulk/TiO2', 'dir', required_dirs)\u001b[39;00m\n\u001b[0;32m----> 3\u001b[0m path_checker(\u001b[38;5;124m'\u001b[39m\u001b[38;5;124m./\u001b[39m\u001b[38;5;124m'\u001b[39m, required_files)\n",
      "Cell \u001b[0;32mIn[112], line 19\u001b[0m, in \u001b[0;36mpath_checker\u001b[0;34m(parent_dir, required_paths)\u001b[0m\n\u001b[1;32m     16\u001b[0m                 min_not_found \u001b[38;5;241m=\u001b[39m \u001b[38;5;28mlen\u001b[39m(not_found_paths)\n\u001b[1;32m     17\u001b[0m                 min_not_found_paths \u001b[38;5;241m=\u001b[39m \u001b[38;5;124m'\u001b[39m\u001b[38;5;124m & \u001b[39m\u001b[38;5;124m'\u001b[39m\u001b[38;5;241m.\u001b[39mjoin(not_found_paths)\n\u001b[0;32m---> 19\u001b[0m \u001b[38;5;28;01mraise\u001b[39;00m \u001b[38;5;167;01mFileNotFoundError\u001b[39;00m(\u001b[38;5;124m\"\u001b[39m\u001b[38;5;124mCan\u001b[39m\u001b[38;5;124m'\u001b[39m\u001b[38;5;124mt find required paths, \u001b[39m\u001b[38;5;130;01m\\\"\u001b[39;00m\u001b[38;5;132;01m%s\u001b[39;00m\u001b[38;5;130;01m\\\"\u001b[39;00m\u001b[38;5;124m\"\u001b[39m\u001b[38;5;241m%\u001b[39mmin_not_found_paths)\n",
      "\u001b[0;31mFileNotFoundError\u001b[0m: Can't find required paths, \"sa\""
     ]
    }
   ],
   "source": [
    "\n",
    "# Example usage:\n",
    "#find_matching_path('/home/ysj/aRPaCa/script/SBH/Project/Bulk/TiO2', 'dir', required_dirs)\n",
    "path_checker('./', required_files)\n",
    "\n",
    "#path_checker('/home/ysj/aRPaCa/script/SBH/Project/Bulk/', required_dirs)"
   ]
  },
  {
   "cell_type": "code",
   "execution_count": null,
   "id": "1884eed5-9da4-4b08-b057-82e7adbafbbd",
   "metadata": {},
   "outputs": [],
   "source": []
  }
 ],
 "metadata": {
  "kernelspec": {
   "display_name": "Python 3 (ipykernel)",
   "language": "python",
   "name": "python3"
  },
  "language_info": {
   "codemirror_mode": {
    "name": "ipython",
    "version": 3
   },
   "file_extension": ".py",
   "mimetype": "text/x-python",
   "name": "python",
   "nbconvert_exporter": "python",
   "pygments_lexer": "ipython3",
   "version": "3.11.7"
  }
 },
 "nbformat": 4,
 "nbformat_minor": 5
}
