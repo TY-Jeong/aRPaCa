{
 "cells": [
  {
   "cell_type": "code",
   "execution_count": null,
   "id": "50816011-b0b7-4611-82b9-8b52da82545c",
   "metadata": {},
   "outputs": [],
   "source": [
    "import os\n",
    "\n",
    "required_dirs = ['DOS', 'Correction', 'Dielec', 'Chg', 'Relax']\n",
    "required_files = ['dos_bulk.dat', 'cbs.dat', 'DOStot.dat', 'input.dat', 'k_mesh.dat', 'kpdos_int_2.dat']\n",
    "\n",
    "def find_matching_path(parent_dir, dir_or_file, required_paths):\n",
    "    subpaths = [d for d in os.listdir(parent_dir) if os.path.isdir(os.path.join(parent_dir, d))]\n",
    "\n",
    "    if dir_or_file == 'file':\n",
    "        # Check files directly under parent_dir\n",
    "        for required_file in required_paths:\n",
    "            file_path = os.path.join(parent_dir, required_file)\n",
    "            if not os.path.isfile(file_path):\n",
    "                raise FileNotFoundError(f\"Can't find required file: {required_file}\")\n",
    "        return True\n",
    "\n",
    "    elif dir_or_file == 'dir':\n",
    "        # Check for subdirectories that contain all required directories\n",
    "        for subpath in subpaths:\n",
    "            subpath_path = os.path.join(parent_dir, subpath)\n",
    "            missing_or_not = 1\n",
    "            for required_dir in required_paths:\n",
    "                dir_path = os.path.join(subpath_path, required_dir)\n",
    "                if not os.path.isdir(dir_path):\n",
    "                    missing_or_not = 0\n",
    "                    break\n",
    "            if missing_or_not == 1:\n",
    "                return True\n",
    "\n",
    "        raise FileNotFoundError(f\"Can't find bulk semi calculation directory with all required directories\")\n",
    "\n",
    "# Example usage:\n",
    "# find_matching_path('path_to_parent_directory', 'dir', required_dirs)\n",
    "find_matching_path('', 'file', required_files)\n"
   ]
  }
 ],
 "metadata": {
  "kernelspec": {
   "display_name": "Python 3 (ipykernel)",
   "language": "python",
   "name": "python3"
  },
  "language_info": {
   "codemirror_mode": {
    "name": "ipython",
    "version": 3
   },
   "file_extension": ".py",
   "mimetype": "text/x-python",
   "name": "python",
   "nbconvert_exporter": "python",
   "pygments_lexer": "ipython3",
   "version": "3.11.7"
  }
 },
 "nbformat": 4,
 "nbformat_minor": 5
}
